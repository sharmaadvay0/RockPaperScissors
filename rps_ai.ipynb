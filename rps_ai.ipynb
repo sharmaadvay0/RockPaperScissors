{
 "cells": [
  {
   "cell_type": "code",
   "execution_count": 390,
   "metadata": {},
   "outputs": [],
   "source": [
    "import numpy as np\n",
    "import torch\n",
    "import torch.nn as nn\n",
    "import torch.nn.functional as F\n",
    "import matplotlib.pyplot as plt\n",
    "from tqdm import tqdm\n",
    "import random"
   ]
  },
  {
   "cell_type": "code",
   "execution_count": 391,
   "metadata": {},
   "outputs": [
    {
     "name": "stdout",
     "output_type": "stream",
     "text": [
      "Using cpu device\n"
     ]
    }
   ],
   "source": [
    "device = \"cpu\"\n",
    "print(f\"Using {device} device\")"
   ]
  },
  {
   "cell_type": "code",
   "execution_count": 392,
   "metadata": {},
   "outputs": [],
   "source": [
    "randomData = []\n",
    "randomLabels = []\n",
    "for i in range(5000):\n",
    "    value1 = random.randint(0,2)\n",
    "    value2 = random.randint(0,2)\n",
    "    value3 = random.randint(0,2)\n",
    "    value4 = random.randint(0,2)\n",
    "    randomData.append([value1, value2, value3])\n",
    "    randomLabels.append(value4)"
   ]
  },
  {
   "cell_type": "code",
   "execution_count": 393,
   "metadata": {},
   "outputs": [],
   "source": [
    "randomTestData = []\n",
    "randomTestLabels = []\n",
    "for i in range(500):\n",
    "    value1 = random.randint(0,2)\n",
    "    value2 = random.randint(0,2)\n",
    "    value3 = random.randint(0,2)\n",
    "    value4 = random.randint(0,2)\n",
    "    randomTestData.append([value1, value2, value3])\n",
    "    randomTestLabels.append(value4)"
   ]
  },
  {
   "cell_type": "code",
   "execution_count": 418,
   "metadata": {},
   "outputs": [
    {
     "ename": "FileNotFoundError",
     "evalue": "[Errno 2] No such file or directory: 'rps_data.npy'",
     "output_type": "error",
     "traceback": [
      "\u001b[0;31m---------------------------------------------------------------------------\u001b[0m",
      "\u001b[0;31mFileNotFoundError\u001b[0m                         Traceback (most recent call last)",
      "Cell \u001b[0;32mIn[418], line 1\u001b[0m\n\u001b[0;32m----> 1\u001b[0m data \u001b[38;5;241m=\u001b[39m \u001b[43mnp\u001b[49m\u001b[38;5;241;43m.\u001b[39;49m\u001b[43mload\u001b[49m\u001b[43m(\u001b[49m\u001b[38;5;124;43m\"\u001b[39;49m\u001b[38;5;124;43mrps_data.npy\u001b[39;49m\u001b[38;5;124;43m\"\u001b[39;49m\u001b[43m)\u001b[49m\n\u001b[1;32m      2\u001b[0m labels \u001b[38;5;241m=\u001b[39m data[\u001b[38;5;241m1\u001b[39m:, \u001b[38;5;241m0\u001b[39m]\n\u001b[1;32m      3\u001b[0m data \u001b[38;5;241m=\u001b[39m data[:\u001b[38;5;28mlen\u001b[39m(data)\u001b[38;5;241m-\u001b[39m\u001b[38;5;241m1\u001b[39m]\n",
      "File \u001b[0;32m~/.pyenv/versions/3.10.13/lib/python3.10/site-packages/numpy/lib/npyio.py:427\u001b[0m, in \u001b[0;36mload\u001b[0;34m(file, mmap_mode, allow_pickle, fix_imports, encoding, max_header_size)\u001b[0m\n\u001b[1;32m    425\u001b[0m     own_fid \u001b[38;5;241m=\u001b[39m \u001b[38;5;28;01mFalse\u001b[39;00m\n\u001b[1;32m    426\u001b[0m \u001b[38;5;28;01melse\u001b[39;00m:\n\u001b[0;32m--> 427\u001b[0m     fid \u001b[38;5;241m=\u001b[39m stack\u001b[38;5;241m.\u001b[39menter_context(\u001b[38;5;28;43mopen\u001b[39;49m\u001b[43m(\u001b[49m\u001b[43mos_fspath\u001b[49m\u001b[43m(\u001b[49m\u001b[43mfile\u001b[49m\u001b[43m)\u001b[49m\u001b[43m,\u001b[49m\u001b[43m \u001b[49m\u001b[38;5;124;43m\"\u001b[39;49m\u001b[38;5;124;43mrb\u001b[39;49m\u001b[38;5;124;43m\"\u001b[39;49m\u001b[43m)\u001b[49m)\n\u001b[1;32m    428\u001b[0m     own_fid \u001b[38;5;241m=\u001b[39m \u001b[38;5;28;01mTrue\u001b[39;00m\n\u001b[1;32m    430\u001b[0m \u001b[38;5;66;03m# Code to distinguish from NumPy binary files and pickles.\u001b[39;00m\n",
      "\u001b[0;31mFileNotFoundError\u001b[0m: [Errno 2] No such file or directory: 'rps_data.npy'"
     ]
    }
   ],
   "source": [
    "data = np.load(\"rps_data.npy\")\n",
    "labels = data[1:, 0]\n",
    "data = data[:len(data)-1]\n",
    "trainingData = data[:450, :]\n",
    "testData = data[450:, :]\n",
    "trainingLabels = labels[:450]\n",
    "testLabels = labels[450:]\n"
   ]
  },
  {
   "cell_type": "code",
   "execution_count": 419,
   "metadata": {},
   "outputs": [],
   "source": [
    "np.save(\"rps_data.npy\", data)\n",
    "np.save(\"rps_labels.npy\", labels)"
   ]
  },
  {
   "cell_type": "code",
   "execution_count": 395,
   "metadata": {},
   "outputs": [
    {
     "name": "stdout",
     "output_type": "stream",
     "text": [
      "Net(\n",
      "  (LSTM): LSTM(1, 1000, batch_first=True)\n",
      "  (FC1): Linear(in_features=1000, out_features=2000, bias=True)\n",
      "  (FC2): Linear(in_features=2000, out_features=3, bias=True)\n",
      "  (dropout): Dropout(p=0.5, inplace=False)\n",
      ")\n"
     ]
    }
   ],
   "source": [
    "class Net(nn.Module):\n",
    "    def __init__(self):\n",
    "        super(Net, self).__init__()\n",
    "        self.LSTM = nn.LSTM(1, 1000, batch_first=True, num_layers=1)\n",
    "        self.FC1 = nn.Linear(1000, 2000)\n",
    "        self.FC2 = nn.Linear(2000, 3)\n",
    "        self.dropout = nn.Dropout()\n",
    "        \n",
    "\n",
    "    def forward(self, x):\n",
    "        lstmOutput, _ = self.LSTM(x)\n",
    "        x = F.relu(self.FC1(lstmOutput[:, -1, :]))\n",
    "        x = self.dropout(x)\n",
    "        x = self.FC2(x)\n",
    "        x = F.softmax(x)\n",
    "        return x\n",
    "\n",
    "net = Net().to(device)\n",
    "print(net)"
   ]
  },
  {
   "cell_type": "code",
   "execution_count": 396,
   "metadata": {},
   "outputs": [],
   "source": [
    "def train(data, labels, net: nn.Module):\n",
    "    lossFunction = nn.CrossEntropyLoss()\n",
    "    lossList = []\n",
    "    accuracyList = []\n",
    "    epochs = 10\n",
    "    batchSize = 100\n",
    "    optimizer = torch.optim.Adam(net.parameters(),lr=1e-3)\n",
    "    optimizer.zero_grad()\n",
    "\n",
    "    for _ in tqdm(range(epochs)):\n",
    "        for batchNumber in range(int(len(data) / batchSize)):\n",
    "            start = batchNumber * batchSize\n",
    "            currentData = data[start:start+batchSize, :, :]\n",
    "            currentLabels = labels[start:start+batchSize]\n",
    "            \n",
    "            inputData = torch.FloatTensor(currentData).to(device)\n",
    "            inputData.requires_grad_()\n",
    "            outputData = torch.LongTensor(currentLabels).to(device)\n",
    "            currentPredictions = net(inputData)\n",
    "\n",
    "            currentLoss = lossFunction(currentPredictions, outputData)\n",
    "\n",
    "            currentLoss.backward()\n",
    "\n",
    "            optimizer.step()\n",
    "\n",
    "            optimizer.zero_grad()\n",
    "\n",
    "            lossList.append(currentLoss.item())\n",
    "\n",
    "            accuracyList.append((currentPredictions.argmax(1) == outputData).type(torch.float).sum().item() / batchSize)\n",
    "    \n",
    "    return lossList, accuracyList"
   ]
  },
  {
   "cell_type": "code",
   "execution_count": 397,
   "metadata": {},
   "outputs": [
    {
     "name": "stdout",
     "output_type": "stream",
     "text": [
      "(5000, 3, 1)\n"
     ]
    }
   ],
   "source": [
    "d = np.array(randomData)\n",
    "d = d.reshape(d.shape[0], d.shape[1], 1)\n",
    "print(d.shape)"
   ]
  },
  {
   "cell_type": "code",
   "execution_count": 400,
   "metadata": {},
   "outputs": [],
   "source": [
    "def test(testData, testLabels, net):\n",
    "    net.eval()\n",
    "    batchSize = 25\n",
    "    correct = 0\n",
    "    with torch.no_grad():\n",
    "        for batchNumber in range(int(len(testData) / batchSize)):\n",
    "            start = batchNumber * batchSize\n",
    "\n",
    "            currentData = testData[start:start+batchSize, :]\n",
    "\n",
    "            currentData = torch.FloatTensor(currentData).to(device)\n",
    "\n",
    "            currentLabels = testLabels[start:start+batchSize]\n",
    "            currentLabels = torch.LongTensor(currentLabels).to(device)\n",
    "            \n",
    "            prediction = net(currentData)\n",
    "\n",
    "            correct += (prediction.argmax(1) == currentLabels).type(torch.float).sum().item()\n",
    "    return correct / len(testLabels)"
   ]
  },
  {
   "cell_type": "code",
   "execution_count": 403,
   "metadata": {},
   "outputs": [],
   "source": [
    "actualTest = np.array(testData)"
   ]
  },
  {
   "cell_type": "code",
   "execution_count": 405,
   "metadata": {},
   "outputs": [
    {
     "name": "stdout",
     "output_type": "stream",
     "text": [
      "(450, 3, 1)\n"
     ]
    }
   ],
   "source": [
    "actualData = np.array(trainingData)\n",
    "actualData = actualData.reshape(actualData.shape[0], actualData.shape[1], 1)\n",
    "print(actualData.shape)"
   ]
  },
  {
   "cell_type": "code",
   "execution_count": 406,
   "metadata": {},
   "outputs": [
    {
     "name": "stderr",
     "output_type": "stream",
     "text": [
      "  0%|          | 0/10 [00:00<?, ?it/s]/var/folders/m2/vd7bhy010wv4jcz0_pttj9l40000gn/T/ipykernel_73517/411051272.py:15: UserWarning: Implicit dimension choice for softmax has been deprecated. Change the call to include dim=X as an argument.\n",
      "  x = F.softmax(x)\n",
      "100%|██████████| 10/10 [00:01<00:00,  7.42it/s]\n"
     ]
    }
   ],
   "source": [
    "lossList, accList = train(actualData, np.array(trainingLabels), net)"
   ]
  },
  {
   "cell_type": "code",
   "execution_count": 407,
   "metadata": {},
   "outputs": [
    {
     "data": {
      "image/png": "[encoded data removed]",
      "text/plain": [
       "<Figure size 640x480 with 1 Axes>"
      ]
     },
     "metadata": {},
     "output_type": "display_data"
    }
   ],
   "source": [
    "plt.plot(range(len(lossList)), lossList, range(len(accList)), accList)\n",
    "plt.legend(['loss', 'accuracy'])\n",
    "plt.ylim((0,1.25))\n",
    "plt.show()"
   ]
  },
  {
   "cell_type": "code",
   "execution_count": 408,
   "metadata": {},
   "outputs": [
    {
     "name": "stdout",
     "output_type": "stream",
     "text": [
      "Accuracy: 0.5102040816326531\n"
     ]
    },
    {
     "name": "stderr",
     "output_type": "stream",
     "text": [
      "/var/folders/m2/vd7bhy010wv4jcz0_pttj9l40000gn/T/ipykernel_73517/411051272.py:15: UserWarning: Implicit dimension choice for softmax has been deprecated. Change the call to include dim=X as an argument.\n",
      "  x = F.softmax(x)\n"
     ]
    }
   ],
   "source": [
    "print(\"Accuracy:\", str(test(actualTest.reshape(actualTest.shape[0], actualTest.shape[1], 1), np.array(testLabels), net)))"
   ]
  },
  {
   "cell_type": "code",
   "execution_count": 417,
   "metadata": {},
   "outputs": [
    {
     "name": "stdout",
     "output_type": "stream",
     "text": [
      "tensor([1])\n"
     ]
    },
    {
     "name": "stderr",
     "output_type": "stream",
     "text": [
      "/var/folders/m2/vd7bhy010wv4jcz0_pttj9l40000gn/T/ipykernel_73517/411051272.py:15: UserWarning: Implicit dimension choice for softmax has been deprecated. Change the call to include dim=X as an argument.\n",
      "  x = F.softmax(x)\n"
     ]
    }
   ],
   "source": [
    "net.eval()\n",
    "t = np.array([[0, 1, 2]]).reshape(1,3,1)\n",
    "print(net(torch.FloatTensor(t)).argmax(1))"
   ]
  },
  {
   "cell_type": "code",
   "execution_count": 409,
   "metadata": {},
   "outputs": [],
   "source": [
    "net_script = torch.jit.script(net)\n",
    "net_script.save(\"rps_game_ai.pt\")"
   ]
  },
  {
   "cell_type": "code",
   "execution_count": 421,
   "metadata": {},
   "outputs": [
    {
     "name": "stdout",
     "output_type": "stream",
     "text": [
      "(549, 3)\n",
      "(549,)\n"
     ]
    }
   ],
   "source": [
    "new_data = np.load(\"rps_data.npy\")\n",
    "new_labels = np.load(\"rps_labels.npy\")\n",
    "print(new_data.shape)\n",
    "print(new_labels.shape)"
   ]
  }
 ],
 "metadata": {
  "kernelspec": {
   "display_name": "Python 3",
   "language": "python",
   "name": "python3"
  },
  "language_info": {
   "codemirror_mode": {
    "name": "ipython",
    "version": 3
   },
   "file_extension": ".py",
   "mimetype": "text/x-python",
   "name": "python",
   "nbconvert_exporter": "python",
   "pygments_lexer": "ipython3",
   "version": "3.10.13"
  }
 },
 "nbformat": 4,
 "nbformat_minor": 2
}
