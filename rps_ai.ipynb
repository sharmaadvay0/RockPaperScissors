{
 "cells": [
  {
   "cell_type": "code",
   "execution_count": 182,
   "metadata": {},
   "outputs": [],
   "source": [
    "import numpy as np\n",
    "import torch\n",
    "import torch.nn as nn\n",
    "import torch.nn.functional as F\n",
    "import matplotlib.pyplot as plt\n",
    "from tqdm import tqdm\n",
    "import random"
   ]
  },
  {
   "cell_type": "code",
   "execution_count": 183,
   "metadata": {},
   "outputs": [
    {
     "name": "stdout",
     "output_type": "stream",
     "text": [
      "Using cpu device\n"
     ]
    }
   ],
   "source": [
    "device = \"cpu\"\n",
    "print(f\"Using {device} device\")"
   ]
  },
  {
   "cell_type": "code",
   "execution_count": 184,
   "metadata": {},
   "outputs": [],
   "source": [
    "randomData = []\n",
    "randomLabels = []\n",
    "for i in range(5000):\n",
    "    value1 = random.randint(0,2)\n",
    "    value2 = random.randint(0,2)\n",
    "    value3 = random.randint(0,2)\n",
    "    value4 = random.randint(0,2)\n",
    "    randomData.append([value1, value2, value3])\n",
    "    randomLabels.append(value4)"
   ]
  },
  {
   "cell_type": "code",
   "execution_count": 185,
   "metadata": {},
   "outputs": [],
   "source": [
    "randomTestData = []\n",
    "randomTestLabels = []\n",
    "for i in range(500):\n",
    "    value1 = random.randint(0,2)\n",
    "    value2 = random.randint(0,2)\n",
    "    value3 = random.randint(0,2)\n",
    "    value4 = random.randint(0,2)\n",
    "    randomTestData.append([value1, value2, value3])\n",
    "    randomTestLabels.append(value4)"
   ]
  },
  {
   "cell_type": "code",
   "execution_count": 186,
   "metadata": {},
   "outputs": [
    {
     "name": "stdout",
     "output_type": "stream",
     "text": [
      "(175, 6)\n",
      "(50, 6)\n"
     ]
    }
   ],
   "source": [
    "data = np.load(\"rps_data.npy\")\n",
    "labels = np.load(\"rps_labels.npy\")\n",
    "data = data[:len(data)-(len(data) % 25)]\n",
    "np.random.shuffle(data)\n",
    "trainingData = data[:len(data)-50, :]\n",
    "testData = data[len(data)-50:, :]\n",
    "trainingLabels = labels[:len(data)-50]\n",
    "testLabels = labels[len(data)-50:]\n",
    "print(trainingData.shape)\n",
    "print(testData.shape)\n"
   ]
  },
  {
   "cell_type": "code",
   "execution_count": 187,
   "metadata": {},
   "outputs": [
    {
     "name": "stdout",
     "output_type": "stream",
     "text": [
      "Net(\n",
      "  (LSTM): LSTM(1, 1800, num_layers=3, batch_first=True)\n",
      "  (FC1): Linear(in_features=1800, out_features=3600, bias=True)\n",
      "  (FC2): Linear(in_features=3600, out_features=3, bias=True)\n",
      "  (dropout): Dropout(p=0.4, inplace=False)\n",
      ")\n"
     ]
    }
   ],
   "source": [
    "class Net(nn.Module):\n",
    "    def __init__(self):\n",
    "        super(Net, self).__init__()\n",
    "        self.LSTM = nn.LSTM(1, 1800, batch_first=True, num_layers=3)\n",
    "        self.FC1 = nn.Linear(1800, 3600)\n",
    "        self.FC2 = nn.Linear(3600, 3)\n",
    "        self.dropout = nn.Dropout(p=0.4)\n",
    "        \n",
    "\n",
    "    def forward(self, x):\n",
    "        lstmOutput, _ = self.LSTM(x)\n",
    "        x = F.relu(self.FC1(lstmOutput[:, -1, :]))\n",
    "        x = self.dropout(x)\n",
    "        x = self.FC2(x)\n",
    "        x = F.softmax(x)\n",
    "        return x\n",
    "\n",
    "net = Net().to(device)\n",
    "print(net)"
   ]
  },
  {
   "cell_type": "code",
   "execution_count": 188,
   "metadata": {},
   "outputs": [],
   "source": [
    "def train(data, labels, net: nn.Module):\n",
    "    lossFunction = nn.CrossEntropyLoss()\n",
    "    lossList = []\n",
    "    accuracyList = []\n",
    "    epochs = 10\n",
    "    batchSize = 100\n",
    "    optimizer = torch.optim.Adam(net.parameters(),lr=1e-3)\n",
    "    optimizer.zero_grad()\n",
    "\n",
    "    for _ in tqdm(range(epochs)):\n",
    "        for batchNumber in range(int(len(data) / batchSize)):\n",
    "            start = batchNumber * batchSize\n",
    "            currentData = data[start:start+batchSize, :, :]\n",
    "            currentLabels = labels[start:start+batchSize]\n",
    "            \n",
    "            inputData = torch.FloatTensor(currentData).to(device)\n",
    "            inputData.requires_grad_()\n",
    "            outputData = torch.LongTensor(currentLabels).to(device)\n",
    "            currentPredictions = net(inputData)\n",
    "\n",
    "            currentLoss = lossFunction(currentPredictions, outputData)\n",
    "\n",
    "            currentLoss.backward()\n",
    "\n",
    "            optimizer.step()\n",
    "\n",
    "            optimizer.zero_grad()\n",
    "\n",
    "            lossList.append(currentLoss.item())\n",
    "\n",
    "            accuracyList.append((currentPredictions.argmax(1) == outputData).type(torch.float).sum().item() / batchSize)\n",
    "    \n",
    "    return lossList, accuracyList"
   ]
  },
  {
   "cell_type": "code",
   "execution_count": 189,
   "metadata": {},
   "outputs": [
    {
     "name": "stdout",
     "output_type": "stream",
     "text": [
      "(5000, 3, 1)\n"
     ]
    }
   ],
   "source": [
    "d = np.array(randomData)\n",
    "d = d.reshape(d.shape[0], d.shape[1], 1)\n",
    "print(d.shape)"
   ]
  },
  {
   "cell_type": "code",
   "execution_count": 190,
   "metadata": {},
   "outputs": [],
   "source": [
    "def test(testData, testLabels, net):\n",
    "    net.eval()\n",
    "    batchSize = 25\n",
    "    correct = 0\n",
    "    with torch.no_grad():\n",
    "        for batchNumber in range(int(len(testData) / batchSize)):\n",
    "            start = batchNumber * batchSize\n",
    "\n",
    "            currentData = testData[start:start+batchSize, :]\n",
    "\n",
    "            currentData = torch.FloatTensor(currentData).to(device)\n",
    "\n",
    "            currentLabels = testLabels[start:start+batchSize]\n",
    "            currentLabels = torch.LongTensor(currentLabels).to(device)\n",
    "            \n",
    "            prediction = net(currentData)\n",
    "            print(prediction.argmax(1))\n",
    "            correct += (prediction.argmax(1) == currentLabels).type(torch.float).sum().item()\n",
    "    return correct / len(testLabels)"
   ]
  },
  {
   "cell_type": "code",
   "execution_count": 191,
   "metadata": {},
   "outputs": [],
   "source": [
    "actualTest = np.array(testData)"
   ]
  },
  {
   "cell_type": "code",
   "execution_count": 192,
   "metadata": {},
   "outputs": [
    {
     "name": "stdout",
     "output_type": "stream",
     "text": [
      "(175, 6, 1)\n"
     ]
    }
   ],
   "source": [
    "actualData = np.array(trainingData)\n",
    "actualData = actualData.reshape(actualData.shape[0], actualData.shape[1], 1)\n",
    "print(actualData.shape)"
   ]
  },
  {
   "cell_type": "code",
   "execution_count": 193,
   "metadata": {},
   "outputs": [
    {
     "name": "stderr",
     "output_type": "stream",
     "text": [
      "  0%|          | 0/10 [00:00<?, ?it/s]/var/folders/m2/vd7bhy010wv4jcz0_pttj9l40000gn/T/ipykernel_87261/1014056381.py:15: UserWarning: Implicit dimension choice for softmax has been deprecated. Change the call to include dim=X as an argument.\n",
      "  x = F.softmax(x)\n",
      "100%|██████████| 10/10 [00:04<00:00,  2.32it/s]\n"
     ]
    }
   ],
   "source": [
    "lossList, accList = train(actualData, np.array(trainingLabels), net)"
   ]
  },
  {
   "cell_type": "code",
   "execution_count": 194,
   "metadata": {},
   "outputs": [
    {
     "data": {
      "image/png": "[encoded data removed]",
      "text/plain": [
       "<Figure size 640x480 with 1 Axes>"
      ]
     },
     "metadata": {},
     "output_type": "display_data"
    }
   ],
   "source": [
    "plt.plot(range(len(lossList)), lossList, range(len(accList)), accList)\n",
    "plt.legend(['loss', 'accuracy'])\n",
    "plt.ylim((0,1.25))\n",
    "plt.show()"
   ]
  },
  {
   "cell_type": "code",
   "execution_count": 195,
   "metadata": {},
   "outputs": [
    {
     "name": "stderr",
     "output_type": "stream",
     "text": [
      "/var/folders/m2/vd7bhy010wv4jcz0_pttj9l40000gn/T/ipykernel_87261/1014056381.py:15: UserWarning: Implicit dimension choice for softmax has been deprecated. Change the call to include dim=X as an argument.\n",
      "  x = F.softmax(x)\n"
     ]
    },
    {
     "name": "stdout",
     "output_type": "stream",
     "text": [
      "tensor([1, 2, 1, 2, 1, 1, 1, 2, 2, 2, 1, 1, 1, 1, 1, 1, 1, 2, 2, 1, 1, 1, 1, 1,\n",
      "        1])\n",
      "tensor([1, 2, 2, 1, 2, 2, 1, 1, 1, 1, 1, 1, 1, 1, 1, 2, 1, 1, 2, 2, 1, 1, 2, 1,\n",
      "        1])\n",
      "Accuracy: 0.20270270270270271\n"
     ]
    }
   ],
   "source": [
    "print(\"Accuracy:\", str(test(actualTest.reshape(actualTest.shape[0], actualTest.shape[1], 1), np.array(testLabels), net)))"
   ]
  },
  {
   "cell_type": "code",
   "execution_count": 196,
   "metadata": {},
   "outputs": [
    {
     "name": "stdout",
     "output_type": "stream",
     "text": [
      "tensor([1])\n"
     ]
    },
    {
     "name": "stderr",
     "output_type": "stream",
     "text": [
      "/var/folders/m2/vd7bhy010wv4jcz0_pttj9l40000gn/T/ipykernel_87261/1014056381.py:15: UserWarning: Implicit dimension choice for softmax has been deprecated. Change the call to include dim=X as an argument.\n",
      "  x = F.softmax(x)\n"
     ]
    }
   ],
   "source": [
    "net.eval()\n",
    "t = np.array([[0, 1, 2, 1, 2, 0, 1]]).reshape(1,7,1)\n",
    "print(net(torch.FloatTensor(t)).argmax(1))"
   ]
  },
  {
   "cell_type": "code",
   "execution_count": 197,
   "metadata": {},
   "outputs": [],
   "source": [
    "net_script = torch.jit.script(net)\n",
    "net_script.save(\"rps_game_ai.pt\")"
   ]
  },
  {
   "cell_type": "code",
   "execution_count": 198,
   "metadata": {},
   "outputs": [
    {
     "name": "stdout",
     "output_type": "stream",
     "text": [
      "(249, 6)\n",
      "(249,)\n"
     ]
    }
   ],
   "source": [
    "new_data = np.load(\"rps_data.npy\")\n",
    "new_labels = np.load(\"rps_labels.npy\")\n",
    "print(new_data.shape)\n",
    "print(new_labels.shape)"
   ]
  }
 ],
 "metadata": {
  "kernelspec": {
   "display_name": "Python 3",
   "language": "python",
   "name": "python3"
  },
  "language_info": {
   "codemirror_mode": {
    "name": "ipython",
    "version": 3
   },
   "file_extension": ".py",
   "mimetype": "text/x-python",
   "name": "python",
   "nbconvert_exporter": "python",
   "pygments_lexer": "ipython3",
   "version": "3.10.13"
  }
 },
 "nbformat": 4,
 "nbformat_minor": 2
}
